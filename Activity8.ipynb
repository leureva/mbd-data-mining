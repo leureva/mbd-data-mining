{
  "nbformat": 4,
  "nbformat_minor": 0,
  "metadata": {
    "colab": {
      "provenance": [],
      "authorship_tag": "ABX9TyNACf/wtFa6WyA7OgXa81bL",
      "include_colab_link": true
    },
    "kernelspec": {
      "name": "python3",
      "display_name": "Python 3"
    },
    "language_info": {
      "name": "python"
    }
  },
  "cells": [
    {
      "cell_type": "markdown",
      "metadata": {
        "id": "view-in-github",
        "colab_type": "text"
      },
      "source": [
        "<a href=\"https://colab.research.google.com/github/leureva/mbd-data-mining/blob/main/Activity8.ipynb\" target=\"_parent\"><img src=\"https://colab.research.google.com/assets/colab-badge.svg\" alt=\"Open In Colab\"/></a>"
      ]
    },
    {
      "cell_type": "code",
      "execution_count": 42,
      "metadata": {
        "id": "1FRXoQUXToKe"
      },
      "outputs": [],
      "source": [
        "import numpy as np\n",
        "import pandas as pd\n",
        "import matplotlib.pyplot as plt\n",
        "import statsmodels.formula.api as smf\n",
        "from sklearn.linear_model import LinearRegression"
      ]
    },
    {
      "cell_type": "code",
      "source": [
        "path = \"https://raw.githubusercontent.com/tec03/Datasets/main/datasets/census.csv\""
      ],
      "metadata": {
        "id": "GymD0olNUXpJ"
      },
      "execution_count": 18,
      "outputs": []
    },
    {
      "cell_type": "code",
      "source": [
        "df = pd.read_csv(path)\n",
        "df.head()"
      ],
      "metadata": {
        "colab": {
          "base_uri": "https://localhost:8080/",
          "height": 369
        },
        "id": "gjtIsoRwUb9G",
        "outputId": "303bc508-06f5-44f7-bd60-77d028184cd4"
      },
      "execution_count": 52,
      "outputs": [
        {
          "output_type": "execute_result",
          "data": {
            "text/plain": [
              "   SUMLEV  REGION  DIVISION  STATE  COUNTY   STNAME         CTYNAME  \\\n",
              "0      40       3         6      1       0  Alabama         Alabama   \n",
              "1      50       3         6      1       1  Alabama  Autauga County   \n",
              "2      50       3         6      1       3  Alabama  Baldwin County   \n",
              "3      50       3         6      1       5  Alabama  Barbour County   \n",
              "4      50       3         6      1       7  Alabama     Bibb County   \n",
              "\n",
              "   CENSUS2010POP  ESTIMATESBASE2010  POPESTIMATE2010  ...  RDOMESTICMIG2011  \\\n",
              "0        4779736            4780127          4785161  ...          0.002295   \n",
              "1          54571              54571            54660  ...          7.242091   \n",
              "2         182265             182265           183193  ...         14.832960   \n",
              "3          27457              27457            27341  ...         -4.728132   \n",
              "4          22915              22919            22861  ...         -5.527043   \n",
              "\n",
              "   RDOMESTICMIG2012  RDOMESTICMIG2013  RDOMESTICMIG2014  RDOMESTICMIG2015  \\\n",
              "0         -0.193196          0.381066          0.582002         -0.467369   \n",
              "1         -2.915927         -3.012349          2.265971         -2.530799   \n",
              "2         17.647293         21.845705         19.243287         17.197872   \n",
              "3         -2.500690         -7.056824         -3.904217        -10.543299   \n",
              "4         -5.068871         -6.201001         -0.177537          0.177258   \n",
              "\n",
              "   RNETMIG2011  RNETMIG2012  RNETMIG2013  RNETMIG2014  RNETMIG2015  \n",
              "0     1.030015     0.826644     1.383282     1.724718     0.712594  \n",
              "1     7.606016    -2.626146    -2.722002     2.592270    -2.187333  \n",
              "2    15.844176    18.559627    22.727626    20.317142    18.293499  \n",
              "3    -4.874741    -2.758113    -7.167664    -3.978583   -10.543299  \n",
              "4    -5.088389    -4.363636    -5.403729     0.754533     1.107861  \n",
              "\n",
              "[5 rows x 100 columns]"
            ],
            "text/html": [
              "\n",
              "  <div id=\"df-104f06fa-5347-4e00-b2b5-7282035a6ff4\">\n",
              "    <div class=\"colab-df-container\">\n",
              "      <div>\n",
              "<style scoped>\n",
              "    .dataframe tbody tr th:only-of-type {\n",
              "        vertical-align: middle;\n",
              "    }\n",
              "\n",
              "    .dataframe tbody tr th {\n",
              "        vertical-align: top;\n",
              "    }\n",
              "\n",
              "    .dataframe thead th {\n",
              "        text-align: right;\n",
              "    }\n",
              "</style>\n",
              "<table border=\"1\" class=\"dataframe\">\n",
              "  <thead>\n",
              "    <tr style=\"text-align: right;\">\n",
              "      <th></th>\n",
              "      <th>SUMLEV</th>\n",
              "      <th>REGION</th>\n",
              "      <th>DIVISION</th>\n",
              "      <th>STATE</th>\n",
              "      <th>COUNTY</th>\n",
              "      <th>STNAME</th>\n",
              "      <th>CTYNAME</th>\n",
              "      <th>CENSUS2010POP</th>\n",
              "      <th>ESTIMATESBASE2010</th>\n",
              "      <th>POPESTIMATE2010</th>\n",
              "      <th>...</th>\n",
              "      <th>RDOMESTICMIG2011</th>\n",
              "      <th>RDOMESTICMIG2012</th>\n",
              "      <th>RDOMESTICMIG2013</th>\n",
              "      <th>RDOMESTICMIG2014</th>\n",
              "      <th>RDOMESTICMIG2015</th>\n",
              "      <th>RNETMIG2011</th>\n",
              "      <th>RNETMIG2012</th>\n",
              "      <th>RNETMIG2013</th>\n",
              "      <th>RNETMIG2014</th>\n",
              "      <th>RNETMIG2015</th>\n",
              "    </tr>\n",
              "  </thead>\n",
              "  <tbody>\n",
              "    <tr>\n",
              "      <th>0</th>\n",
              "      <td>40</td>\n",
              "      <td>3</td>\n",
              "      <td>6</td>\n",
              "      <td>1</td>\n",
              "      <td>0</td>\n",
              "      <td>Alabama</td>\n",
              "      <td>Alabama</td>\n",
              "      <td>4779736</td>\n",
              "      <td>4780127</td>\n",
              "      <td>4785161</td>\n",
              "      <td>...</td>\n",
              "      <td>0.002295</td>\n",
              "      <td>-0.193196</td>\n",
              "      <td>0.381066</td>\n",
              "      <td>0.582002</td>\n",
              "      <td>-0.467369</td>\n",
              "      <td>1.030015</td>\n",
              "      <td>0.826644</td>\n",
              "      <td>1.383282</td>\n",
              "      <td>1.724718</td>\n",
              "      <td>0.712594</td>\n",
              "    </tr>\n",
              "    <tr>\n",
              "      <th>1</th>\n",
              "      <td>50</td>\n",
              "      <td>3</td>\n",
              "      <td>6</td>\n",
              "      <td>1</td>\n",
              "      <td>1</td>\n",
              "      <td>Alabama</td>\n",
              "      <td>Autauga County</td>\n",
              "      <td>54571</td>\n",
              "      <td>54571</td>\n",
              "      <td>54660</td>\n",
              "      <td>...</td>\n",
              "      <td>7.242091</td>\n",
              "      <td>-2.915927</td>\n",
              "      <td>-3.012349</td>\n",
              "      <td>2.265971</td>\n",
              "      <td>-2.530799</td>\n",
              "      <td>7.606016</td>\n",
              "      <td>-2.626146</td>\n",
              "      <td>-2.722002</td>\n",
              "      <td>2.592270</td>\n",
              "      <td>-2.187333</td>\n",
              "    </tr>\n",
              "    <tr>\n",
              "      <th>2</th>\n",
              "      <td>50</td>\n",
              "      <td>3</td>\n",
              "      <td>6</td>\n",
              "      <td>1</td>\n",
              "      <td>3</td>\n",
              "      <td>Alabama</td>\n",
              "      <td>Baldwin County</td>\n",
              "      <td>182265</td>\n",
              "      <td>182265</td>\n",
              "      <td>183193</td>\n",
              "      <td>...</td>\n",
              "      <td>14.832960</td>\n",
              "      <td>17.647293</td>\n",
              "      <td>21.845705</td>\n",
              "      <td>19.243287</td>\n",
              "      <td>17.197872</td>\n",
              "      <td>15.844176</td>\n",
              "      <td>18.559627</td>\n",
              "      <td>22.727626</td>\n",
              "      <td>20.317142</td>\n",
              "      <td>18.293499</td>\n",
              "    </tr>\n",
              "    <tr>\n",
              "      <th>3</th>\n",
              "      <td>50</td>\n",
              "      <td>3</td>\n",
              "      <td>6</td>\n",
              "      <td>1</td>\n",
              "      <td>5</td>\n",
              "      <td>Alabama</td>\n",
              "      <td>Barbour County</td>\n",
              "      <td>27457</td>\n",
              "      <td>27457</td>\n",
              "      <td>27341</td>\n",
              "      <td>...</td>\n",
              "      <td>-4.728132</td>\n",
              "      <td>-2.500690</td>\n",
              "      <td>-7.056824</td>\n",
              "      <td>-3.904217</td>\n",
              "      <td>-10.543299</td>\n",
              "      <td>-4.874741</td>\n",
              "      <td>-2.758113</td>\n",
              "      <td>-7.167664</td>\n",
              "      <td>-3.978583</td>\n",
              "      <td>-10.543299</td>\n",
              "    </tr>\n",
              "    <tr>\n",
              "      <th>4</th>\n",
              "      <td>50</td>\n",
              "      <td>3</td>\n",
              "      <td>6</td>\n",
              "      <td>1</td>\n",
              "      <td>7</td>\n",
              "      <td>Alabama</td>\n",
              "      <td>Bibb County</td>\n",
              "      <td>22915</td>\n",
              "      <td>22919</td>\n",
              "      <td>22861</td>\n",
              "      <td>...</td>\n",
              "      <td>-5.527043</td>\n",
              "      <td>-5.068871</td>\n",
              "      <td>-6.201001</td>\n",
              "      <td>-0.177537</td>\n",
              "      <td>0.177258</td>\n",
              "      <td>-5.088389</td>\n",
              "      <td>-4.363636</td>\n",
              "      <td>-5.403729</td>\n",
              "      <td>0.754533</td>\n",
              "      <td>1.107861</td>\n",
              "    </tr>\n",
              "  </tbody>\n",
              "</table>\n",
              "<p>5 rows × 100 columns</p>\n",
              "</div>\n",
              "      <button class=\"colab-df-convert\" onclick=\"convertToInteractive('df-104f06fa-5347-4e00-b2b5-7282035a6ff4')\"\n",
              "              title=\"Convert this dataframe to an interactive table.\"\n",
              "              style=\"display:none;\">\n",
              "        \n",
              "  <svg xmlns=\"http://www.w3.org/2000/svg\" height=\"24px\"viewBox=\"0 0 24 24\"\n",
              "       width=\"24px\">\n",
              "    <path d=\"M0 0h24v24H0V0z\" fill=\"none\"/>\n",
              "    <path d=\"M18.56 5.44l.94 2.06.94-2.06 2.06-.94-2.06-.94-.94-2.06-.94 2.06-2.06.94zm-11 1L8.5 8.5l.94-2.06 2.06-.94-2.06-.94L8.5 2.5l-.94 2.06-2.06.94zm10 10l.94 2.06.94-2.06 2.06-.94-2.06-.94-.94-2.06-.94 2.06-2.06.94z\"/><path d=\"M17.41 7.96l-1.37-1.37c-.4-.4-.92-.59-1.43-.59-.52 0-1.04.2-1.43.59L10.3 9.45l-7.72 7.72c-.78.78-.78 2.05 0 2.83L4 21.41c.39.39.9.59 1.41.59.51 0 1.02-.2 1.41-.59l7.78-7.78 2.81-2.81c.8-.78.8-2.07 0-2.86zM5.41 20L4 18.59l7.72-7.72 1.47 1.35L5.41 20z\"/>\n",
              "  </svg>\n",
              "      </button>\n",
              "      \n",
              "  <style>\n",
              "    .colab-df-container {\n",
              "      display:flex;\n",
              "      flex-wrap:wrap;\n",
              "      gap: 12px;\n",
              "    }\n",
              "\n",
              "    .colab-df-convert {\n",
              "      background-color: #E8F0FE;\n",
              "      border: none;\n",
              "      border-radius: 50%;\n",
              "      cursor: pointer;\n",
              "      display: none;\n",
              "      fill: #1967D2;\n",
              "      height: 32px;\n",
              "      padding: 0 0 0 0;\n",
              "      width: 32px;\n",
              "    }\n",
              "\n",
              "    .colab-df-convert:hover {\n",
              "      background-color: #E2EBFA;\n",
              "      box-shadow: 0px 1px 2px rgba(60, 64, 67, 0.3), 0px 1px 3px 1px rgba(60, 64, 67, 0.15);\n",
              "      fill: #174EA6;\n",
              "    }\n",
              "\n",
              "    [theme=dark] .colab-df-convert {\n",
              "      background-color: #3B4455;\n",
              "      fill: #D2E3FC;\n",
              "    }\n",
              "\n",
              "    [theme=dark] .colab-df-convert:hover {\n",
              "      background-color: #434B5C;\n",
              "      box-shadow: 0px 1px 3px 1px rgba(0, 0, 0, 0.15);\n",
              "      filter: drop-shadow(0px 1px 2px rgba(0, 0, 0, 0.3));\n",
              "      fill: #FFFFFF;\n",
              "    }\n",
              "  </style>\n",
              "\n",
              "      <script>\n",
              "        const buttonEl =\n",
              "          document.querySelector('#df-104f06fa-5347-4e00-b2b5-7282035a6ff4 button.colab-df-convert');\n",
              "        buttonEl.style.display =\n",
              "          google.colab.kernel.accessAllowed ? 'block' : 'none';\n",
              "\n",
              "        async function convertToInteractive(key) {\n",
              "          const element = document.querySelector('#df-104f06fa-5347-4e00-b2b5-7282035a6ff4');\n",
              "          const dataTable =\n",
              "            await google.colab.kernel.invokeFunction('convertToInteractive',\n",
              "                                                     [key], {});\n",
              "          if (!dataTable) return;\n",
              "\n",
              "          const docLinkHtml = 'Like what you see? Visit the ' +\n",
              "            '<a target=\"_blank\" href=https://colab.research.google.com/notebooks/data_table.ipynb>data table notebook</a>'\n",
              "            + ' to learn more about interactive tables.';\n",
              "          element.innerHTML = '';\n",
              "          dataTable['output_type'] = 'display_data';\n",
              "          await google.colab.output.renderOutput(dataTable, element);\n",
              "          const docLink = document.createElement('div');\n",
              "          docLink.innerHTML = docLinkHtml;\n",
              "          element.appendChild(docLink);\n",
              "        }\n",
              "      </script>\n",
              "    </div>\n",
              "  </div>\n",
              "  "
            ]
          },
          "metadata": {},
          "execution_count": 52
        }
      ]
    },
    {
      "cell_type": "code",
      "source": [
        "alabama_df = df[df['STNAME'] == 'Alabama']"
      ],
      "metadata": {
        "id": "NysBLbTo9F43"
      },
      "execution_count": 53,
      "outputs": []
    },
    {
      "cell_type": "code",
      "source": [
        "avg_deaths_2015 = alabama_df['DEATHS2015'].mean()\n",
        "avg_deaths_2015"
      ],
      "metadata": {
        "colab": {
          "base_uri": "https://localhost:8080/"
        },
        "id": "Ntqzd9Rz_y2z",
        "outputId": "e966042c-1a0e-43d8-d1f8-6a0c2c0584d8"
      },
      "execution_count": 55,
      "outputs": [
        {
          "output_type": "execute_result",
          "data": {
            "text/plain": [
              "1480.2941176470588"
            ]
          },
          "metadata": {},
          "execution_count": 55
        }
      ]
    },
    {
      "cell_type": "code",
      "source": [
        "median_int_mig_2011 = df['INTERNATIONALMIG2011'].median()\n",
        "df['Residue'] = df['INTERNATIONALMIG2011'] - median_int_mig_2011\n",
        "median_residues_by_state = df.groupby('STNAME')['Residue'].median()"
      ],
      "metadata": {
        "id": "Fgd1DyilAVsy"
      },
      "execution_count": 57,
      "outputs": []
    },
    {
      "cell_type": "code",
      "source": [
        "median_residues_by_state"
      ],
      "metadata": {
        "colab": {
          "base_uri": "https://localhost:8080/"
        },
        "id": "UQPUsL9lAgky",
        "outputId": "7936a0ba-83fd-49ff-9557-f3ff9649324a"
      },
      "execution_count": 58,
      "outputs": [
        {
          "output_type": "execute_result",
          "data": {
            "text/plain": [
              "STNAME\n",
              "Alabama                    7.0\n",
              "Alaska                     3.0\n",
              "Arizona                   91.0\n",
              "Arkansas                  -7.0\n",
              "California               370.0\n",
              "Colorado                   0.0\n",
              "Connecticut             1022.0\n",
              "Delaware                 953.5\n",
              "District of Columbia    3340.0\n",
              "Florida                  158.0\n",
              "Georgia                    0.0\n",
              "Hawaii                   628.5\n",
              "Idaho                     -6.0\n",
              "Illinois                  -2.0\n",
              "Indiana                   -1.0\n",
              "Iowa                      -6.0\n",
              "Kansas                    -9.0\n",
              "Kentucky                  -8.0\n",
              "Louisiana                  4.0\n",
              "Maine                     17.0\n",
              "Maryland                 119.0\n",
              "Massachusetts           1187.0\n",
              "Michigan                   1.5\n",
              "Minnesota                 -0.5\n",
              "Mississippi               -9.0\n",
              "Missouri                  -7.0\n",
              "Montana                  -10.0\n",
              "Nebraska                 -10.0\n",
              "Nevada                     6.5\n",
              "New Hampshire            128.0\n",
              "New Jersey              1507.0\n",
              "New Mexico                 5.0\n",
              "New York                  96.0\n",
              "North Carolina            20.0\n",
              "North Dakota             -10.0\n",
              "Ohio                       8.0\n",
              "Oklahoma                  -4.5\n",
              "Oregon                     9.0\n",
              "Pennsylvania              25.5\n",
              "Rhode Island             152.5\n",
              "South Carolina            17.0\n",
              "South Dakota              -9.0\n",
              "Tennessee                 -2.0\n",
              "Texas                      2.0\n",
              "Utah                       1.0\n",
              "Vermont                    2.0\n",
              "Virginia                   3.0\n",
              "Washington                55.0\n",
              "West Virginia             -7.0\n",
              "Wisconsin                  2.0\n",
              "Wyoming                   -3.0\n",
              "Name: Residue, dtype: float64"
            ]
          },
          "metadata": {},
          "execution_count": 58
        }
      ]
    },
    {
      "cell_type": "code",
      "source": [
        "iqr_residues_by_state = df.groupby('STNAME')['Residue'].apply(pd.Series.quantile, q=0.75) - df.groupby('STNAME')['Residue'].apply(pd.Series.quantile, q=0.25)"
      ],
      "metadata": {
        "id": "HNiQ3zybAlaj"
      },
      "execution_count": 59,
      "outputs": []
    },
    {
      "cell_type": "code",
      "source": [
        "iqr_residues_by_state"
      ],
      "metadata": {
        "colab": {
          "base_uri": "https://localhost:8080/"
        },
        "id": "sgrJb-ekA2Ev",
        "outputId": "ceaac796-0ab6-4040-83d7-83cef9b81dc2"
      },
      "execution_count": 60,
      "outputs": [
        {
          "output_type": "execute_result",
          "data": {
            "text/plain": [
              "STNAME\n",
              "Alabama                   50.00\n",
              "Alaska                    34.75\n",
              "Arizona                  514.50\n",
              "Arkansas                  17.00\n",
              "California              1638.00\n",
              "Colorado                  51.00\n",
              "Connecticut             4164.00\n",
              "Delaware                1345.50\n",
              "District of Columbia       0.00\n",
              "Florida                  894.50\n",
              "Georgia                   43.00\n",
              "Hawaii                  3607.75\n",
              "Idaho                     28.00\n",
              "Illinois                  28.50\n",
              "Indiana                   42.00\n",
              "Iowa                      16.25\n",
              "Kansas                    12.00\n",
              "Kentucky                  13.00\n",
              "Louisiana                 75.00\n",
              "Maine                     58.00\n",
              "Maryland                 968.00\n",
              "Massachusetts           3250.50\n",
              "Michigan                  60.75\n",
              "Minnesota                 37.50\n",
              "Mississippi               20.50\n",
              "Missouri                  23.25\n",
              "Montana                    7.00\n",
              "Nebraska                   5.75\n",
              "Nevada                    34.25\n",
              "New Hampshire            178.50\n",
              "New Jersey              3545.50\n",
              "New Mexico                54.75\n",
              "New York                 715.00\n",
              "North Carolina            88.00\n",
              "North Dakota               4.00\n",
              "Ohio                      72.00\n",
              "Oklahoma                  18.00\n",
              "Oregon                    37.00\n",
              "Pennsylvania             436.25\n",
              "Rhode Island            2516.50\n",
              "South Carolina           149.00\n",
              "South Dakota               9.50\n",
              "Tennessee                 34.75\n",
              "Texas                     40.50\n",
              "Utah                      43.00\n",
              "Vermont                   19.00\n",
              "Virginia                  80.00\n",
              "Washington               196.25\n",
              "West Virginia             12.00\n",
              "Wisconsin                 45.00\n",
              "Wyoming                   28.00\n",
              "Name: Residue, dtype: float64"
            ]
          },
          "metadata": {},
          "execution_count": 60
        }
      ]
    },
    {
      "cell_type": "code",
      "source": [],
      "metadata": {
        "id": "ZDpJPeA9A5iW"
      },
      "execution_count": null,
      "outputs": []
    }
  ]
}